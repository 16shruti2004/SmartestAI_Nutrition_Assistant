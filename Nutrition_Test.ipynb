{
  "cells": [
    {
      "cell_type": "code",
      "execution_count": 1,
      "metadata": {
        "colab": {
          "base_uri": "https://localhost:8080/"
        },
        "id": "T6ohcDh_0J_7",
        "outputId": "08e961d2-547c-423f-8c5d-b04ab4f928c9"
      },
      "outputs": [
        {
          "name": "stdout",
          "output_type": "stream",
          "text": [
            "Defaulting to user installation because normal site-packages is not writeable\n",
            "Requirement already satisfied: TextBlob in c:\\users\\manisa\\appdata\\roaming\\python\\python312\\site-packages (0.19.0)\n",
            "Requirement already satisfied: nltk>=3.9 in c:\\programdata\\anaconda3\\lib\\site-packages (from TextBlob) (3.9.1)\n",
            "Requirement already satisfied: click in c:\\users\\manisa\\appdata\\roaming\\python\\python312\\site-packages (from nltk>=3.9->TextBlob) (8.1.8)\n",
            "Requirement already satisfied: joblib in c:\\users\\manisa\\appdata\\roaming\\python\\python312\\site-packages (from nltk>=3.9->TextBlob) (1.4.2)\n",
            "Requirement already satisfied: regex>=2021.8.3 in c:\\programdata\\anaconda3\\lib\\site-packages (from nltk>=3.9->TextBlob) (2024.9.11)\n",
            "Requirement already satisfied: tqdm in c:\\users\\manisa\\appdata\\roaming\\python\\python312\\site-packages (from nltk>=3.9->TextBlob) (4.67.1)\n",
            "Requirement already satisfied: colorama in c:\\users\\manisa\\appdata\\roaming\\python\\python312\\site-packages (from click->nltk>=3.9->TextBlob) (0.4.6)\n",
            "Note: you may need to restart the kernel to use updated packages.\n"
          ]
        }
      ],
      "source": [
        "pip install TextBlob"
      ]
    },
    {
      "cell_type": "code",
      "execution_count": 2,
      "metadata": {
        "colab": {
          "base_uri": "https://localhost:8080/"
        },
        "id": "Bl1OzQNH9GC1",
        "outputId": "4bcde405-678b-4155-d00f-aa7a160fb599"
      },
      "outputs": [
        {
          "name": "stderr",
          "output_type": "stream",
          "text": [
            "[nltk_data] Downloading package punkt to\n",
            "[nltk_data]     C:\\Users\\MANISA\\AppData\\Roaming\\nltk_data...\n",
            "[nltk_data]   Package punkt is already up-to-date!\n"
          ]
        }
      ],
      "source": [
        "# Setup\n",
        "import pandas as pd\n",
        "import numpy as np\n",
        "import nltk\n",
        "import seaborn as sns\n",
        "import matplotlib.pyplot as plt\n",
        "from sklearn.feature_extraction.text import TfidfVectorizer\n",
        "from sklearn.metrics.pairwise import cosine_similarity\n",
        "from textblob import TextBlob\n",
        "from matplotlib.backends.backend_tkagg import FigureCanvasTkAgg\n",
        "import tkinter as tk\n",
        "from tkinter import scrolledtext\n",
        "\n",
        "nltk.download('punkt')\n",
        "\n",
        "# Load the dataset\n",
        "# Try reading with the 'python' engine to handle potential parsing issues\n",
        "df = pd.read_csv('Nutrion_check.csv', engine='python')\n",
        "df.dropna(inplace=True)"
      ]
    },
    {
      "cell_type": "code",
      "execution_count": 3,
      "metadata": {
        "colab": {
          "base_uri": "https://localhost:8080/"
        },
        "id": "GrPV7Gd59am7",
        "outputId": "77c48f74-b8d4-4a00-90b0-4917484df188"
      },
      "outputs": [
        {
          "name": "stdout",
          "output_type": "stream",
          "text": [
            "Index(['Food', 'Category', 'Calories (kcal)', 'Protein (g)', 'Fat (g)',\n",
            "       'Vitamins', 'Calcium (mg)', 'Health_Rating'],\n",
            "      dtype='object')\n"
          ]
        }
      ],
      "source": [
        "print(df.columns)"
      ]
    },
    {
      "cell_type": "code",
      "execution_count": null,
      "metadata": {
        "colab": {
          "base_uri": "https://localhost:8080/"
        },
        "id": "01JP33Tx9bGL",
        "outputId": "73d259b0-c723-4eca-d2e3-3e43caa9d268"
      },
      "outputs": [
        {
          "name": "stdout",
          "output_type": "stream",
          "text": [
            "--- Data Head ---\n",
            "       Food   Category  Calories (kcal)  Protein (g)  Fat (g)  Vitamins  \\\n",
            "0     Apple      Fruit               95          0.5      0.3         C   \n",
            "1  Broccoli  Vegetable               55          3.7      0.6      C, K   \n",
            "2    Banana      Fruit              105          1.3      0.4     B6, C   \n",
            "3    Carrot  Vegetable               41          0.9      0.2  A, K, B6   \n",
            "4     Pizza  Junk Food              285         12.0     10.0    A, B12   \n",
            "\n",
            "   Calcium (mg) Health_Rating  \n",
            "0            11       Healthy  \n",
            "1            47       Healthy  \n",
            "2             5       Healthy  \n",
            "3            33       Healthy  \n",
            "4           200     Unhealthy  \n"
          ]
        }
      ],
      "source": [
        "# Initial inspection\n",
        "print(\"--- Data Head ---\")\n",
        "print(df.head())"
      ]
    },
    {
      "cell_type": "code",
      "execution_count": 5,
      "metadata": {
        "colab": {
          "base_uri": "https://localhost:8080/"
        },
        "id": "zZ7kDYtq9v_j",
        "outputId": "0fbbbd2f-a20a-462b-c7e9-602d69c6cbe6"
      },
      "outputs": [
        {
          "name": "stdout",
          "output_type": "stream",
          "text": [
            "\n",
            "--- Data Info ---\n",
            "<class 'pandas.core.frame.DataFrame'>\n",
            "RangeIndex: 10 entries, 0 to 9\n",
            "Data columns (total 8 columns):\n",
            " #   Column           Non-Null Count  Dtype  \n",
            "---  ------           --------------  -----  \n",
            " 0   Food             10 non-null     object \n",
            " 1   Category         10 non-null     object \n",
            " 2   Calories (kcal)  10 non-null     int64  \n",
            " 3   Protein (g)      10 non-null     float64\n",
            " 4   Fat (g)          10 non-null     float64\n",
            " 5   Vitamins         10 non-null     object \n",
            " 6   Calcium (mg)     10 non-null     int64  \n",
            " 7   Health_Rating    10 non-null     object \n",
            "dtypes: float64(2), int64(2), object(4)\n",
            "memory usage: 772.0+ bytes\n"
          ]
        }
      ],
      "source": [
        "print(\"\\n--- Data Info ---\")\n",
        "df.info()"
      ]
    },
    {
      "cell_type": "code",
      "execution_count": 6,
      "metadata": {
        "colab": {
          "base_uri": "https://localhost:8080/"
        },
        "id": "93FNUmDz9zCD",
        "outputId": "07b09856-bc99-43d8-c4eb-b090cd0e6604"
      },
      "outputs": [
        {
          "name": "stdout",
          "output_type": "stream",
          "text": [
            "\n",
            "--- Missing Values ---\n",
            "Food               0\n",
            "Category           0\n",
            "Calories (kcal)    0\n",
            "Protein (g)        0\n",
            "Fat (g)            0\n",
            "Vitamins           0\n",
            "Calcium (mg)       0\n",
            "Health_Rating      0\n",
            "dtype: int64\n"
          ]
        }
      ],
      "source": [
        "print(\"\\n--- Missing Values ---\")\n",
        "print(df.isnull().sum())"
      ]
    },
    {
      "cell_type": "code",
      "execution_count": 7,
      "metadata": {
        "id": "Tl3YT4Yu917j"
      },
      "outputs": [],
      "source": [
        "# Drop rows with missing values in features\n",
        "# Define the features list - replace with your actual feature column names\n",
        "features = ['Food'] # Add other relevant column names here if needed\n",
        "\n",
        "# Removed 'HighWaste' as it caused a KeyError\n",
        "df.dropna(subset=features, inplace=True)"
      ]
    },
    {
      "cell_type": "code",
      "execution_count": 8,
      "metadata": {
        "id": "ssMuwExy9_7D"
      },
      "outputs": [],
      "source": [
        "# Drop rows with missing values in features or target\n",
        "# Assuming 'HighWaste' is not a required column for dropping missing values based on the error and previous comments.\n",
        "# If you intended to use a different column, replace 'HighWaste' with the correct column name.\n",
        "df.dropna(subset=features, inplace=True)"
      ]
    },
    {
      "cell_type": "code",
      "execution_count": 9,
      "metadata": {
        "id": "iFxYZnri-AXL"
      },
      "outputs": [],
      "source": [
        "# Sentiment Analysis Function\n",
        "def analyze_sentiment(text):\n",
        "    blob = TextBlob(text)\n",
        "    return blob.sentiment.polarity  # -1 to 1 scale\n",
        "\n",
        "df['sentiment'] = df['Category'].apply(analyze_sentiment)"
      ]
    },
    {
      "cell_type": "code",
      "execution_count": 10,
      "metadata": {
        "colab": {
          "base_uri": "https://localhost:8080/",
          "height": 487
        },
        "id": "SYe_tc0z-G87",
        "outputId": "01006d4c-3da0-464d-9286-3ea3353ddfe9"
      },
      "outputs": [
        {
          "data": {
            "image/png": "[encoded data removed]",
            "text/plain": [
              "<Figure size 800x500 with 1 Axes>"
            ]
          },
          "metadata": {},
          "output_type": "display_data"
        }
      ],
      "source": [
        "# Visual Insight\n",
        "plt.figure(figsize=(8, 5))\n",
        "sns.histplot(df['sentiment'], bins=30, kde=True, color='skyblue')\n",
        "plt.title('Sentiment Distribution in Nutritional Data', fontsize=12, fontweight='bold')\n",
        "plt.xlabel('Sentiment Score')\n",
        "plt.ylabel('Count')\n",
        "plt.show()"
      ]
    },
    {
      "cell_type": "code",
      "execution_count": 11,
      "metadata": {
        "colab": {
          "base_uri": "https://localhost:8080/",
          "height": 854
        },
        "id": "sOw3tcIk-TVT",
        "outputId": "fcc6f9fd-c3d8-4cdd-a78d-fba3d748cf50"
      },
      "outputs": [
        {
          "name": "stdout",
          "output_type": "stream",
          "text": [
            "\n",
            "💡 Best Match From Dataset:\n",
            "📌 Food: Apple\n",
            "📂 Category: Fruit\n",
            "🌟 Health_Rating: Healthy\n",
            "🔥 Calories: 95\n",
            "💪 Protein: 0.5 g\n",
            "🥑 Fat: 0.3 g\n",
            "🅰️ Vitamins : C\n",
            "🦴 Calcium: 11\n",
            "\n",
            "👋 Goodbye! Stay safe and healthy.\n",
            "Vitamins: C\n",
            "Health Rating: Healthy\n"
          ]
        },
        {
          "data": {
            "image/png": "[encoded data removed]",
            "text/plain": [
              "<Figure size 600x500 with 1 Axes>"
            ]
          },
          "metadata": {},
          "output_type": "display_data"
        },
        {
          "name": "stdout",
          "output_type": "stream",
          "text": [
            "\n",
            "👋 Goodbye! Stay safe and healthy.\n"
          ]
        }
      ],
      "source": [
        "import pandas as pd\n",
        "from sklearn.feature_extraction.text import TfidfVectorizer\n",
        "from sklearn.metrics.pairwise import cosine_similarity\n",
        "import matplotlib.pyplot as plt\n",
        "\n",
        "# Load your CSV dataset\n",
        "data = pd.read_csv(\"Nutrion_check.csv\")\n",
        "\n",
        "def answer_nutrition_query(data=data, threshold=0.1):\n",
        "    vectorizer = TfidfVectorizer()\n",
        "    tfidf_matrix = vectorizer.fit_transform(data['Food'].astype(str))\n",
        "\n",
        "    while True:\n",
        "        user_question = input(\"\\n💬 Ask a nutrition-related question (or type 'exit' to quit): \").strip().lower()\n",
        "\n",
        "        if user_question in ['exit', 'quit']:\n",
        "            print(\"\\n👋 Goodbye! Stay safe and healthy.\")\n",
        "            break\n",
        "\n",
        "        question_vec = vectorizer.transform([user_question])\n",
        "        similarity_scores = cosine_similarity(question_vec, tfidf_matrix)\n",
        "        best_match_index = similarity_scores.argmax()\n",
        "        best_score = similarity_scores[0, best_match_index]\n",
        "\n",
        "        if best_score < threshold:\n",
        "            print(\"\\n❌ This query is not recommended.\")\n",
        "            continue\n",
        "\n",
        "        result = data.iloc[best_match_index]\n",
        "\n",
        "        print(\"\\n💡 Best Match From Dataset:\")\n",
        "        print(f\"📌 Food: {result['Food']}\")\n",
        "        print(f\"📂 Category: {result['Category']}\")\n",
        "        print(f\"🌟 Health_Rating: {result['Health_Rating']}\")\n",
        "        print(f\"🔥 Calories: {result['Calories (kcal)']}\")\n",
        "        print(f\"💪 Protein: {result['Protein (g)']} g\")\n",
        "        print(f\"🥑 Fat: {result['Fat (g)']} g\"  )\n",
        "        print(f\"🅰️ Vitamins : {result['Vitamins']}\")\n",
        "        print(f\"🦴 Calcium: {result['Calcium (mg)']}\")\n",
        "        \n",
        "    \n",
        "\n",
        "        # Visual chart\n",
        "        nutrients = {\n",
        "    'Calories': float(result['Calories (kcal)']),\n",
        "    'Protein': float(result['Protein (g)']),\n",
        "    'Calcium': float(result['Calcium (mg)']),\n",
        "    'Fat': float(result['Fat (g)'])\n",
        "\n",
        "}\n",
        "    # Optional: Print non-numeric fields separately\n",
        "    print(\"Vitamins:\", result['Vitamins'])\n",
        "    print(\"Health Rating:\", result['Health_Rating'])  # just print as text\n",
        "\n",
        "\n",
        "    \n",
        "    plt.figure(figsize=(6, 5))\n",
        "    plt.bar(nutrients.keys(), nutrients.values(), color='skyblue')\n",
        "    plt.title(f\"Nutritional Breakdown: {result['Food']}\", fontsize=14, fontweight='bold')\n",
        "    plt.ylabel('Amount')\n",
        "    plt.xticks(rotation=45)\n",
        "    plt.tight_layout()\n",
        "    plt.show()\n",
        "\n",
        "    print(\"\\n👋 Goodbye! Stay safe and healthy.\")\n",
        "\n",
        "# Start the chat loop\n",
        "answer_nutrition_query()\n"
      ]
    }
  ],
  "metadata": {
    "colab": {
      "provenance": []
    },
    "kernelspec": {
      "display_name": "Python 3",
      "language": "python",
      "name": "python3"
    },
    "language_info": {
      "codemirror_mode": {
        "name": "ipython",
        "version": 3
      },
      "file_extension": ".py",
      "mimetype": "text/x-python",
      "name": "python",
      "nbconvert_exporter": "python",
      "pygments_lexer": "ipython3",
      "version": "3.10.0"
    }
  },
  "nbformat": 4,
  "nbformat_minor": 0
}
